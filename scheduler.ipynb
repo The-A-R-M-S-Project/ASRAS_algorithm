{
 "cells": [
  {
   "cell_type": "code",
   "execution_count": null,
   "metadata": {
    "pycharm": {
     "is_executing": true,
     "name": "#%%\n"
    }
   },
   "outputs": [
    {
     "name": "stdout",
     "text": [
      "Solution 0\nShift 0\n  Lecture 0 not allocated \n  Lecture 1 occupies room 1\n  Lecture 2 occupies room 0\n  Lecture 3 occupies room 2\n  Lecture 4 occupies room 3\n  Lecture 5 occupies room 4\nShift 1\n  Lecture 0 occupies room 4\n  Lecture 1 occupies room 3\n  Lecture 2 not allocated \n  Lecture 3 occupies room 2\n  Lecture 4 occupies room 1\n  Lecture 5 occupies room 0\nShift 2\n  Lecture 0 occupies room 3\n  Lecture 1 occupies room 2\n  Lecture 2 occupies room 1\n  Lecture 3 occupies room 4\n  Lecture 4 occupies room 0\n  Lecture 5 not allocated \n\nSolution 1\nShift 0\n  Lecture 0 not allocated \n  Lecture 1 occupies room 1\n  Lecture 2 occupies room 0\n  Lecture 3 occupies room 2\n  Lecture 4 occupies room 3\n  Lecture 5 occupies room 4\nShift 1\n  Lecture 0 occupies room 4\n  Lecture 1 not allocated \n  Lecture 2 occupies room 3\n  Lecture 3 occupies room 2\n  Lecture 4 occupies room 1\n  Lecture 5 occupies room 0\nShift 2\n  Lecture 0 occupies room 3\n  Lecture 1 occupies room 2\n  Lecture 2 occupies room 1\n  Lecture 3 occupies room 4\n  Lecture 4 occupies room 0\n  Lecture 5 not allocated \n\n"
     ],
     "output_type": "stream"
    }
   ],
   "source": [
    "from __future__ import print_function\n",
    "from ortools.sat.python import cp_model\n",
    "\n",
    "class RoomsPartialSolutionPrinter(cp_model.CpSolverSolutionCallback):\n",
    "    \"\"\"Print intermediate solutions.\"\"\"\n",
    "\n",
    "    def __init__(self, shifts, num_rooms, num_lectures, num_shifts, sols):\n",
    "        cp_model.CpSolverSolutionCallback.__init__(self)\n",
    "        self._shifts = shifts\n",
    "        self._num_rooms = num_rooms\n",
    "        self._num_lectures = num_lectures\n",
    "        self._num_shifts = num_shifts\n",
    "        self._solutions = set(sols)\n",
    "        self._solution_count = 0\n",
    "        \n",
    "    def on_solution_callback(self):\n",
    "        if self._solution_count in self._solutions:\n",
    "            print('Solution %i' % self._solution_count)\n",
    "            for s in range(self._num_shifts):\n",
    "                print('Shift %i' % s)\n",
    "                for l in range(self._num_lectures):\n",
    "                    is_allocated = False\n",
    "                    for r in range(self._num_rooms): \n",
    "                        if self.Value(self._shifts[(l, s, r)]):\n",
    "                            is_allocated = True\n",
    "                            print('  Lecture %i occupies room %i' % (l, r))\n",
    "                    if not is_allocated:\n",
    "                        print('  Lecture %i not allocated ' % l)\n",
    "            print()\n",
    "        self._solution_count += 1  \n",
    "        \n",
    "    def solution_count(self):\n",
    "            return self._solution_count\n",
    "        \n",
    "\n",
    "def main():\n",
    "    # Data.\n",
    "    num_rooms = 5\n",
    "    num_lectures = 6\n",
    "    num_shifts = 3\n",
    "    all_rooms = range(num_rooms)\n",
    "    all_shifts = range(num_shifts)\n",
    "    all_lectures = range(num_lectures)\n",
    "    \n",
    "    # Create the model\n",
    "    model = cp_model.CpModel()\n",
    "    \n",
    "    # Creating shift variables\n",
    "    shifts = {}\n",
    "    for l in all_lectures:\n",
    "        for s in all_shifts:\n",
    "            for r in all_rooms:\n",
    "                shifts[(l, s, r)] = model.NewBoolVar('shift_l%i s%i r%i' % (l, s, r))\n",
    "    \n",
    "    # Each lecture is assigned to exactly one room during a given shift\n",
    "    for s in all_shifts:\n",
    "        for r in all_rooms:\n",
    "            model.Add(sum(shifts[(l, s, r)] for l in all_lectures) == 1)\n",
    "    \n",
    "    # Each lecture is allocated at most one room per shift\n",
    "    for l in all_lectures:\n",
    "         for s in all_shifts:\n",
    "             model.Add(sum(shifts[(l, s, r)] for r in all_rooms) <= 1)\n",
    "\n",
    "    min_rooms_per_lecture = (num_rooms * num_shifts) // num_lectures\n",
    "    max_rooms_per_lecture = min_rooms_per_lecture + 1\n",
    "\n",
    "    for l in all_lectures:\n",
    "        num_lectures_allocated = sum(shifts[(l, s, r)] for s in all_shifts for r in all_rooms)\n",
    "        model.Add(min_rooms_per_lecture <= num_lectures_allocated)\n",
    "        model.Add(num_lectures_allocated <= max_rooms_per_lecture)\n",
    "    \n",
    "    # Creates the solver and solve.\n",
    "    solver = cp_model.CpSolver()\n",
    "    solver.parameters.linearization_level = 0\n",
    "    \n",
    "    # Display the first two solutions.\n",
    "    a_few_solutions = range(2)\n",
    "    solution_printer = RoomsPartialSolutionPrinter(\n",
    "        shifts, num_rooms, num_lectures, num_shifts, a_few_solutions)\n",
    "    solver.SearchForAllSolutions(model, solution_printer)\n",
    "   \n",
    "     # Statistics.\n",
    "    print()\n",
    "    print('Statistics')\n",
    "    print('  - conflicts       : %i' % solver.NumConflicts())\n",
    "    print('  - branches        : %i' % solver.NumBranches())\n",
    "    print('  - wall time       : %f s' % solver.WallTime())\n",
    "    print('  - solutions found : %i' % solution_printer.solution_count())\n",
    "\n",
    "\n",
    "if __name__ == '__main__':\n",
    "    main()"
   ]
  }
 ],
 "metadata": {
  "kernelspec": {
   "display_name": "Python 3",
   "language": "python",
   "name": "python3"
  },
  "language_info": {
   "codemirror_mode": {
    "name": "ipython",
    "version": 2
   },
   "file_extension": ".py",
   "mimetype": "text/x-python",
   "name": "python",
   "nbconvert_exporter": "python",
   "pygments_lexer": "ipython2",
   "version": "2.7.6"
  },
  "pycharm": {
   "stem_cell": {
    "cell_type": "raw",
    "source": [],
    "metadata": {
     "collapsed": false
    }
   }
  }
 },
 "nbformat": 4,
 "nbformat_minor": 1
}